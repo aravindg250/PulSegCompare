{
 "cells": [
  {
   "cell_type": "markdown",
   "metadata": {},
   "source": [
    "### Import variables and functions"
   ]
  },
  {
   "cell_type": "code",
   "execution_count": 1,
   "metadata": {},
   "outputs": [
    {
     "name": "stdout",
     "output_type": "stream",
     "text": [
      "binary_arteries1.tif\n",
      "binary_arteries1\n"
     ]
    }
   ],
   "source": [
    "from scripts.nrrdTotif import nrrd_to_npy, npy_to_resized_tiff, change_region_to_white\n",
    "from scripts.filePaths import *\n",
    "from scripts.overlay import overlay_tifs"
   ]
  },
  {
   "cell_type": "markdown",
   "metadata": {},
   "source": [
    "### Convert `.nrrd` from 3D Slicer to `.npy` file"
   ]
  },
  {
   "cell_type": "code",
   "execution_count": 2,
   "metadata": {},
   "outputs": [
    {
     "name": "stdout",
     "output_type": "stream",
     "text": [
      "NRRD data saved as NPY file at C:/Users/bennington/Desktop/research_24/Comparisons/Output/SegmentationOutput/seg2/mouse_output_seg.npy\n"
     ]
    }
   ],
   "source": [
    "# Convert NRRD to NPY\n",
    "nrrd_to_npy(nrrd_filepath, npy_seg_output)"
   ]
  },
  {
   "cell_type": "markdown",
   "metadata": {},
   "source": [
    "### `.npy` to `.tif` (File is resized if needed)"
   ]
  },
  {
   "cell_type": "code",
   "execution_count": 3,
   "metadata": {},
   "outputs": [
    {
     "name": "stdout",
     "output_type": "stream",
     "text": [
      "Original dimensions: 398 x 401 x 436\n",
      "Padding: left=14, left=19\n",
      "All slices saved as a resized multi-page TIFF at C:/Users/bennington/Desktop/research_24/Comparisons/Output/SegmentationOutput/seg2/mouse_output_seg_resized1.tif\n"
     ]
    }
   ],
   "source": [
    "# New dimensions\n",
    "new_width = 417\n",
    "new_height = 415\n",
    "\n",
    "# Convert NPY to a single resized multi-page TIFF\n",
    "npy_to_resized_tiff(npy_seg_output, tif_seg_output, new_width, new_height)"
   ]
  },
  {
   "cell_type": "markdown",
   "metadata": {},
   "source": [
    "### Clean the TubeMap generated `.tif`"
   ]
  },
  {
   "cell_type": "code",
   "execution_count": 4,
   "metadata": {},
   "outputs": [
    {
     "name": "stdout",
     "output_type": "stream",
     "text": [
      "All frames saved with the modified region to a multi-page TIFF at C:/Users/bennington/Desktop/research_24/Comparisons/Output/TubeMapFinal/binary_arteries_white.tif\n"
     ]
    }
   ],
   "source": [
    "\n",
    "region = (0, 0, 65, 55)  #(left, top, right, bottom) to be changed to white\n",
    "\n",
    "# Change the region to white in all images\n",
    "change_region_to_white(TubeMapInitial, TubeMap_output_filepath, region)\n",
    "change_region_to_white(tif_seg_output_resized, tif_seg_output_resized_white, region)"
   ]
  },
  {
   "cell_type": "markdown",
   "metadata": {},
   "source": [
    "### Overlay the TubeMap segmentation over the 3D Slicer segmentation\n",
    "##### "
   ]
  },
  {
   "cell_type": "code",
   "execution_count": 5,
   "metadata": {},
   "outputs": [
    {
     "ename": "FileNotFoundError",
     "evalue": "[Errno 2] No such file or directory: 'C:\\\\Users\\\\bennington\\\\Desktop\\\\research_24\\\\Comparisons\\\\PulSegCompare\\\\Comparisons\\\\Output\\\\OverlayOutput\\\\seg2\\\\overlay_output1.tif'",
     "output_type": "error",
     "traceback": [
      "\u001b[1;31m---------------------------------------------------------------------------\u001b[0m",
      "\u001b[1;31mFileNotFoundError\u001b[0m                         Traceback (most recent call last)",
      "Cell \u001b[1;32mIn[5], line 6\u001b[0m\n\u001b[0;32m      3\u001b[0m target_tif_path \u001b[38;5;241m=\u001b[39m TubeMap_output_filepath\n\u001b[0;32m      4\u001b[0m output_tif_path \u001b[38;5;241m=\u001b[39m overlay_output_tif_path\n\u001b[1;32m----> 6\u001b[0m \u001b[43moverlay_tifs\u001b[49m\u001b[43m(\u001b[49m\u001b[43mreference_tif_path\u001b[49m\u001b[43m,\u001b[49m\u001b[43m \u001b[49m\u001b[43mtarget_tif_path\u001b[49m\u001b[43m,\u001b[49m\u001b[43m \u001b[49m\u001b[43moutput_tif_path\u001b[49m\u001b[43m)\u001b[49m\n",
      "File \u001b[1;32mc:\\Users\\bennington\\Desktop\\research_24\\Comparisons\\PulSegCompare\\scripts\\overlay.py:41\u001b[0m, in \u001b[0;36moverlay_tifs\u001b[1;34m(reference_path, target_path, output_path)\u001b[0m\n\u001b[0;32m     39\u001b[0m \u001b[38;5;66;03m# Save the overlay frame to a new TIFF stack\u001b[39;00m\n\u001b[0;32m     40\u001b[0m \u001b[38;5;28;01mif\u001b[39;00m i \u001b[38;5;241m==\u001b[39m \u001b[38;5;241m0\u001b[39m:\n\u001b[1;32m---> 41\u001b[0m     \u001b[43moverlay_image\u001b[49m\u001b[38;5;241;43m.\u001b[39;49m\u001b[43msave\u001b[49m\u001b[43m(\u001b[49m\u001b[43moutput_path\u001b[49m\u001b[43m,\u001b[49m\u001b[43m \u001b[49m\u001b[43msave_all\u001b[49m\u001b[38;5;241;43m=\u001b[39;49m\u001b[38;5;28;43;01mTrue\u001b[39;49;00m\u001b[43m,\u001b[49m\u001b[43m \u001b[49m\u001b[43mappend_images\u001b[49m\u001b[38;5;241;43m=\u001b[39;49m\u001b[43m[\u001b[49m\u001b[43moverlay_image\u001b[49m\u001b[43m]\u001b[49m\u001b[43m)\u001b[49m\n\u001b[0;32m     42\u001b[0m \u001b[38;5;28;01melse\u001b[39;00m:\n\u001b[0;32m     43\u001b[0m     overlay_image\u001b[38;5;241m.\u001b[39msave(output_path, save_all\u001b[38;5;241m=\u001b[39m\u001b[38;5;28;01mTrue\u001b[39;00m, append_images\u001b[38;5;241m=\u001b[39m[overlay_image], append\u001b[38;5;241m=\u001b[39m\u001b[38;5;28;01mTrue\u001b[39;00m)\n",
      "File \u001b[1;32mc:\\Users\\bennington\\AppData\\Local\\Programs\\Python\\Python312\\Lib\\site-packages\\PIL\\Image.py:2456\u001b[0m, in \u001b[0;36mImage.save\u001b[1;34m(self, fp, format, **params)\u001b[0m\n\u001b[0;32m   2454\u001b[0m         fp \u001b[38;5;241m=\u001b[39m builtins\u001b[38;5;241m.\u001b[39mopen(filename, \u001b[38;5;124m\"\u001b[39m\u001b[38;5;124mr+b\u001b[39m\u001b[38;5;124m\"\u001b[39m)\n\u001b[0;32m   2455\u001b[0m     \u001b[38;5;28;01melse\u001b[39;00m:\n\u001b[1;32m-> 2456\u001b[0m         fp \u001b[38;5;241m=\u001b[39m \u001b[43mbuiltins\u001b[49m\u001b[38;5;241;43m.\u001b[39;49m\u001b[43mopen\u001b[49m\u001b[43m(\u001b[49m\u001b[43mfilename\u001b[49m\u001b[43m,\u001b[49m\u001b[43m \u001b[49m\u001b[38;5;124;43m\"\u001b[39;49m\u001b[38;5;124;43mw+b\u001b[39;49m\u001b[38;5;124;43m\"\u001b[39;49m\u001b[43m)\u001b[49m\n\u001b[0;32m   2458\u001b[0m \u001b[38;5;28;01mtry\u001b[39;00m:\n\u001b[0;32m   2459\u001b[0m     save_handler(\u001b[38;5;28mself\u001b[39m, fp, filename)\n",
      "\u001b[1;31mFileNotFoundError\u001b[0m: [Errno 2] No such file or directory: 'C:\\\\Users\\\\bennington\\\\Desktop\\\\research_24\\\\Comparisons\\\\PulSegCompare\\\\Comparisons\\\\Output\\\\OverlayOutput\\\\seg2\\\\overlay_output1.tif'"
     ]
    }
   ],
   "source": [
    "# Overlay the TIFF stacks\n",
    "reference_tif_path = tif_seg_output_resized_white\n",
    "target_tif_path = TubeMap_output_filepath\n",
    "output_tif_path = overlay_output_tif_path\n",
    "\n",
    "overlay_tifs(reference_tif_path, target_tif_path, output_tif_path)"
   ]
  }
 ],
 "metadata": {
  "kernelspec": {
   "display_name": "Python 3",
   "language": "python",
   "name": "python3"
  },
  "language_info": {
   "codemirror_mode": {
    "name": "ipython",
    "version": 3
   },
   "file_extension": ".py",
   "mimetype": "text/x-python",
   "name": "python",
   "nbconvert_exporter": "python",
   "pygments_lexer": "ipython3",
   "version": "3.12.4"
  }
 },
 "nbformat": 4,
 "nbformat_minor": 2
}
