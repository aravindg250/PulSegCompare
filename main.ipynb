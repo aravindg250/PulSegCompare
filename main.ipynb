{
 "cells": [
  {
   "cell_type": "markdown",
   "metadata": {},
   "source": [
    "### Import variables and functions"
   ]
  },
  {
   "cell_type": "code",
   "execution_count": 1,
   "metadata": {},
   "outputs": [
    {
     "name": "stdout",
     "output_type": "stream",
     "text": [
      "binary_arteries1.tif\n",
      "binary_arteries1\n"
     ]
    }
   ],
   "source": [
    "from scripts.nrrdTotif import nrrd_to_npy, npy_to_resized_tiff, change_region_to_white\n",
    "from scripts.filePaths import *\n",
    "from scripts.overlay import overlay_tiffs"
   ]
  },
  {
   "cell_type": "markdown",
   "metadata": {},
   "source": [
    "### Convert `.nrrd` from 3D Slicer to `.npy` file"
   ]
  },
  {
   "cell_type": "code",
   "execution_count": 4,
   "metadata": {},
   "outputs": [
    {
     "name": "stdout",
     "output_type": "stream",
     "text": [
      "NRRD data saved as NPY file at C:/Users/bennington/Desktop/research_24/Comparisons/Output/SegmentationOutput/seg2/mouse_output_seg.npy\n"
     ]
    }
   ],
   "source": [
    "# Convert NRRD to NPY\n",
    "nrrd_to_npy(nrrd_filepath, npy_seg_output)"
   ]
  },
  {
   "cell_type": "markdown",
   "metadata": {},
   "source": [
    "### `.npy` to `.tif` (File is resized if needed)"
   ]
  },
  {
   "cell_type": "code",
   "execution_count": 3,
   "metadata": {},
   "outputs": [
    {
     "name": "stdout",
     "output_type": "stream",
     "text": [
      "Original dimensions: 398 x 401 x 436\n",
      "Padding: left=14, left=19\n",
      "All slices saved as a resized multi-page TIFF at C:/Users/bennington/Desktop/research_24/Comparisons/Output/SegmentationOutput/seg2/mouse_output_seg_resized1.tif\n"
     ]
    }
   ],
   "source": [
    "# New dimensions\n",
    "new_width = 417\n",
    "new_height = 415\n",
    "region = (0, 0, 65, 55)  #(left, top, right, bottom) to be changed to white\n",
    "\n",
    "# Convert NPY to a single resized multi-page TIFF\n",
    "npy_to_resized_tiff(npy_seg_output, tif_seg_output, new_width, new_height)"
   ]
  },
  {
   "cell_type": "markdown",
   "metadata": {},
   "source": []
  }
 ],
 "metadata": {
  "kernelspec": {
   "display_name": "Python 3",
   "language": "python",
   "name": "python3"
  },
  "language_info": {
   "codemirror_mode": {
    "name": "ipython",
    "version": 3
   },
   "file_extension": ".py",
   "mimetype": "text/x-python",
   "name": "python",
   "nbconvert_exporter": "python",
   "pygments_lexer": "ipython3",
   "version": "3.12.4"
  }
 },
 "nbformat": 4,
 "nbformat_minor": 2
}
